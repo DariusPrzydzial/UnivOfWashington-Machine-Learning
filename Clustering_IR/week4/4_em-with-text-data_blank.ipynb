{
 "cells": [
  {
   "cell_type": "markdown",
   "metadata": {},
   "source": [
    "## Fitting a diagonal covariance Gaussian mixture model to text data\n",
    "\n",
    "In a previous assignment, we explored k-means clustering for a high-dimensional Wikipedia dataset. We can also model this data with a mixture of Gaussians, though with increasing dimension we run into two important issues associated with using a full covariance matrix for each component.\n",
    " * Computational cost becomes prohibitive in high dimensions: score calculations have complexity cubic in the number of dimensions M if the Gaussian has a full covariance matrix.\n",
    " * A model with many parameters require more data: bserve that a full covariance matrix for an M-dimensional Gaussian will have M(M+1)/2 parameters to fit. With the number of parameters growing roughly as the square of the dimension, it may quickly become impossible to find a sufficient amount of data to make good inferences.\n",
    "\n",
    "Both of these issues are avoided if we require the covariance matrix of each component to be diagonal, as then it has only M parameters to fit and the score computation decomposes into M univariate score calculations. Recall from the lecture that the M-step for the full covariance is:\n",
    "\n",
    "\\begin{align*}\n",
    "\\hat{\\Sigma}_k &= \\frac{1}{N_k^{soft}} \\sum_{i=1}^N r_{ik} (x_i-\\hat{\\mu}_k)(x_i - \\hat{\\mu}_k)^T\n",
    "\\end{align*}\n",
    "\n",
    "Note that this is a square matrix with M rows and M columns, and the above equation implies that the (v, w) element is computed by\n",
    "\n",
    "\\begin{align*}\n",
    "\\hat{\\Sigma}_{k, v, w} &= \\frac{1}{N_k^{soft}} \\sum_{i=1}^N r_{ik} (x_{iv}-\\hat{\\mu}_{kv})(x_{iw} - \\hat{\\mu}_{kw})\n",
    "\\end{align*}\n",
    "\n",
    "When we assume that this is a diagonal matrix, then non-diagonal elements are assumed to be zero and we only need to compute each of the M elements along the diagonal independently using the following equation. \n",
    "\n",
    "\\begin{align*}\n",
    "\\hat{\\sigma}^2_{k, v} &= \\hat{\\Sigma}_{k, v, v}  \\\\\n",
    "&= \\frac{1}{N_k^{soft}} \\sum_{i=1}^N r_{ik} (x_{iv}-\\hat{\\mu}_{kv})^2\n",
    "\\end{align*}\n",
    "\n",
    "In this section, we will use an EM implementation to fit a Gaussian mixture model with **diagonal** covariances to a subset of the Wikipedia dataset. The implementation uses the above equation to compute each variance term. \n",
    "\n",
    "We'll begin by importing the dataset and coming up with a useful representation for each article. After running our algorithm on the data, we will explore the output to see whether we can give a meaningful interpretation to the fitted parameters in our model."
   ]
  },
  {
   "cell_type": "markdown",
   "metadata": {},
   "source": [
    "**Note to Amazon EC2 users**: To conserve memory, make sure to stop all the other notebooks before running this notebook."
   ]
  },
  {
   "cell_type": "markdown",
   "metadata": {},
   "source": [
    "## Import necessary packages"
   ]
  },
  {
   "cell_type": "code",
   "execution_count": 1,
   "metadata": {
    "collapsed": false
   },
   "outputs": [],
   "source": [
    "import graphlab"
   ]
  },
  {
   "cell_type": "markdown",
   "metadata": {},
   "source": [
    "We also have a Python file containing implementations for several functions that will be used during the course of this assignment."
   ]
  },
  {
   "cell_type": "code",
   "execution_count": 2,
   "metadata": {
    "collapsed": false
   },
   "outputs": [],
   "source": [
    "from em_utilities import *"
   ]
  },
  {
   "cell_type": "markdown",
   "metadata": {},
   "source": [
    "## Load Wikipedia data and extract TF-IDF features"
   ]
  },
  {
   "cell_type": "markdown",
   "metadata": {},
   "source": [
    "Load Wikipedia data and transform each of the first 5000 document into a TF-IDF representation."
   ]
  },
  {
   "cell_type": "code",
   "execution_count": 3,
   "metadata": {
    "collapsed": false
   },
   "outputs": [
    {
     "name": "stderr",
     "output_type": "stream",
     "text": [
      "[INFO] graphlab.cython.cy_server: GraphLab Create v1.10.1 started. Logging: /tmp/graphlab_server_1467696128.log\n",
      "INFO:graphlab.cython.cy_server:GraphLab Create v1.10.1 started. Logging: /tmp/graphlab_server_1467696128.log\n"
     ]
    },
    {
     "name": "stdout",
     "output_type": "stream",
     "text": [
      "This non-commercial license of GraphLab Create is assigned to suneel.marthi@gmail.com and will expire on December 24, 2016. For commercial licensing options, visit https://dato.com/buy/.\n"
     ]
    }
   ],
   "source": [
    "wiki = graphlab.SFrame('people_wiki.gl/').head(5000)\n",
    "wiki['tf_idf'] = graphlab.text_analytics.tf_idf(wiki['text'])"
   ]
  },
  {
   "cell_type": "markdown",
   "metadata": {},
   "source": [
    "Using a utility we provide, we will create a sparse matrix representation of the documents. This is the same utility function you used during the previous assignment on k-means with text data."
   ]
  },
  {
   "cell_type": "code",
   "execution_count": 21,
   "metadata": {
    "collapsed": false
   },
   "outputs": [
    {
     "name": "stdout",
     "output_type": "stream",
     "text": [
      "+---------+--------------+-------+\n",
      "| feature |   category   | index |\n",
      "+---------+--------------+-------+\n",
      "| feature |  conflating  |   0   |\n",
      "| feature |   diamono    |   1   |\n",
      "| feature |   bailouts   |   2   |\n",
      "| feature | electionruss |   3   |\n",
      "| feature |   maywoods   |   4   |\n",
      "| feature |   feduring   |   5   |\n",
      "| feature |  spiderbait  |   6   |\n",
      "| feature |     mcin     |   7   |\n",
      "| feature |  sumiswald   |   8   |\n",
      "| feature |    quinta    |   9   |\n",
      "+---------+--------------+-------+\n",
      "[100282 rows x 3 columns]\n",
      "Note: Only the head of the SFrame is printed.\n",
      "You can use print_rows(num_rows=m, num_columns=n) to print more rows and columns.\n"
     ]
    }
   ],
   "source": [
    "tf_idf, map_index_to_word = sframe_to_scipy(wiki, 'tf_idf')\n",
    "print map_index_to_word"
   ]
  },
  {
   "cell_type": "markdown",
   "metadata": {},
   "source": [
    "As in the previous assignment, we will normalize each document's TF-IDF vector to be a unit vector. "
   ]
  },
  {
   "cell_type": "code",
   "execution_count": 22,
   "metadata": {
    "collapsed": false
   },
   "outputs": [
    {
     "name": "stdout",
     "output_type": "stream",
     "text": [
      "  (0, 1069)\t0.117087926312\n",
      "  (0, 5547)\t0.58543963156\n",
      "  (0, 16021)\t0.117087926312\n",
      "  (0, 21114)\t0.117087926312\n",
      "  (0, 29521)\t0.117087926312\n",
      "  (0, 39798)\t0.117087926312\n",
      "  (0, 67628)\t0.107559063437\n",
      "  (0, 81889)\t0.101985035981\n",
      "  (0, 83752)\t0.0980302005621\n",
      "  (0, 84782)\t0.0980302005621\n",
      "  (0, 86623)\t0.0949625918903\n",
      "  (0, 87290)\t0.0949625918903\n",
      "  (0, 87908)\t0.277368519317\n",
      "  (0, 88414)\t0.0924561731057\n",
      "  (0, 89402)\t0.0903370262183\n",
      "  (0, 90509)\t0.0885013376871\n",
      "  (0, 90878)\t0.0885013376871\n",
      "  (0, 92764)\t0.0829273102307\n",
      "  (0, 93352)\t0.0818269436607\n",
      "  (0, 94018)\t0.0798597015589\n",
      "  (0, 94280)\t0.0789724748121\n",
      "  (0, 94344)\t0.0789724748121\n",
      "  (0, 95534)\t0.0745946139176\n",
      "  (0, 95612)\t0.147967049452\n",
      "  (0, 95836)\t0.0733984473557\n",
      "  :\t:\n",
      "  (9, 100191)\t0.0861422853057\n",
      "  (9, 100198)\t0.0420890606053\n",
      "  (9, 100205)\t0.0202116876236\n",
      "  (9, 100213)\t0.0989526498261\n",
      "  (9, 100227)\t0.0184624536201\n",
      "  (9, 100229)\t0.0183558319253\n",
      "  (9, 100250)\t0.014302748163\n",
      "  (9, 100253)\t0.0120097092568\n",
      "  (9, 100257)\t0.0551241881407\n",
      "  (9, 100260)\t0.00852302172473\n",
      "  (9, 100261)\t0.0062513960773\n",
      "  (9, 100264)\t0.00406876687371\n",
      "  (9, 100266)\t0.00343195494427\n",
      "  (9, 100268)\t0.0084932166251\n",
      "  (9, 100269)\t0.00527345063938\n",
      "  (9, 100271)\t0.00678805896051\n",
      "  (9, 100272)\t0.00174185052242\n",
      "  (9, 100274)\t0.000912442108089\n",
      "  (9, 100275)\t0.000622344985325\n",
      "  (9, 100276)\t0.00142967968375\n",
      "  (9, 100277)\t0.000783646235234\n",
      "  (9, 100278)\t6.33058725789e-05\n",
      "  (9, 100279)\t0.000147476918526\n",
      "  (9, 100280)\t0.000184290792642\n",
      "  (9, 100281)\t4.7374838083e-05\n"
     ]
    }
   ],
   "source": [
    "tf_idf = normalize(tf_idf)\n",
    "print tf_idf[0:10]"
   ]
  },
  {
   "cell_type": "markdown",
   "metadata": {},
   "source": [
    "We can check that the length (Euclidean norm) of each row is now 1.0, as expected."
   ]
  },
  {
   "cell_type": "code",
   "execution_count": 6,
   "metadata": {
    "collapsed": false,
    "scrolled": true
   },
   "outputs": [
    {
     "name": "stdout",
     "output_type": "stream",
     "text": [
      "1.0\n",
      "1.0\n",
      "1.0\n",
      "1.0\n",
      "1.0\n"
     ]
    }
   ],
   "source": [
    "for i in range(5):\n",
    "    doc = tf_idf[i]\n",
    "    print(np.linalg.norm(doc.todense()))"
   ]
  },
  {
   "cell_type": "markdown",
   "metadata": {},
   "source": [
    "## EM in high dimensions\n",
    "\n",
    "EM for high-dimensional data requires some special treatment:\n",
    " * E step and M step must be vectorized as much as possible, as explicit loops are dreadfully slow in Python.\n",
    " * All operations must be cast in terms of sparse matrix operations, to take advantage of computational savings enabled by sparsity of data.\n",
    " * Initially, some words may be entirely absent from a cluster, causing the M step to produce zero mean and variance for those words.  This means any data point with one of those words will have 0 probability of being assigned to that cluster since the cluster allows for no variability (0 variance) around that count being 0 (0 mean). Since there is a small chance for those words to later appear in the cluster, we instead assign a small positive variance (~1e-10). Doing so also prevents numerical overflow.\n",
    " \n",
    "We provide the complete implementation for you in the file `em_utilities.py`. For those who are interested, you can read through the code to see how the sparse matrix implementation differs from the previous assignment. \n",
    "\n",
    "You are expected to answer some quiz questions using the results of clustering."
   ]
  },
  {
   "cell_type": "markdown",
   "metadata": {},
   "source": [
    "**Initializing mean parameters using k-means**\n",
    "\n",
    "Recall from the lectures that EM for Gaussian mixtures is very sensitive to the choice of initial means. With a bad initial set of means, EM may produce clusters that span a large area and are mostly overlapping. To eliminate such bad outcomes, we first produce a suitable set of initial means by using the cluster centers from running k-means.  That is, we first run k-means and then take the final set of means from the converged solution as the initial means in our EM algorithm."
   ]
  },
  {
   "cell_type": "code",
   "execution_count": 47,
   "metadata": {
    "collapsed": false
   },
   "outputs": [
    {
     "name": "stdout",
     "output_type": "stream",
     "text": [
      "100282\n",
      "[ 0.00418968  0.00420258  0.00420436  0.00422626  0.00422786  0.00422916\n",
      "  0.00422946  0.00423331  0.0042378   0.00424811  0.00424949  0.00425002\n",
      "  0.00425321  0.00426325  0.00426454  0.00426703  0.00427902  0.00429599\n",
      "  0.00430408  0.00431684  0.00433565  0.00433794  0.00434281  0.00434861\n",
      "  0.0043582   0.00436776  0.00437726  0.00440398  0.00441298  0.00441321\n",
      "  0.00441327  0.00443781  0.00445308  0.00446628  0.00446802  0.00448193\n",
      "  0.00449216  0.00449399  0.00450011  0.00450937  0.00451453  0.0045162\n",
      "  0.0045169   0.00451757  0.00453299  0.00453322  0.00454265  0.00456207\n",
      "  0.00456925  0.00456959  0.00458379  0.00458667  0.00460128  0.00461884\n",
      "  0.00466576  0.00469142  0.00469348  0.00469702  0.00473195  0.00474032\n",
      "  0.00474742  0.00476935  0.00480575  0.00480848  0.00482027  0.00483526\n",
      "  0.00483957  0.00484524  0.00487456  0.00488712  0.00491779  0.00493892\n",
      "  0.00499029  0.00499423  0.00502721  0.00503224  0.00505576  0.00506654\n",
      "  0.00509566  0.00510134  0.00510311  0.00522053  0.00522618  0.00525529\n",
      "  0.00534386  0.00534413  0.00535074  0.0053545   0.00536855  0.00537312\n",
      "  0.00539313  0.00542243  0.00542639  0.00543192  0.00543258  0.00545268\n",
      "  0.00545307  0.00545403  0.00546079  0.0054743   0.00548996  0.00550359\n",
      "  0.00551377  0.00554216  0.00554218  0.00558166  0.00560518  0.00562533\n",
      "  0.00563233  0.00566838  0.00567997  0.00568199  0.00568705  0.00568943\n",
      "  0.00576153  0.00581507  0.00582384  0.00583164  0.00583773  0.00584979\n",
      "  0.00589673  0.00596162  0.00597487  0.00598858  0.00598895  0.0060016\n",
      "  0.00605007  0.00606013  0.00608729  0.00609041  0.00609586  0.00613284\n",
      "  0.00615512  0.00619935  0.00620243  0.00627194  0.00628796  0.00629209\n",
      "  0.00630744  0.00630999  0.00631905  0.0063257   0.00637121  0.00638758\n",
      "  0.00644158  0.00645695  0.00645883  0.00646871  0.00653716  0.00655629\n",
      "  0.00656086  0.00658431  0.0065946   0.00659977  0.00664837  0.00664875\n",
      "  0.00668155  0.00669608  0.00671059  0.00673189  0.00673515  0.00681436\n",
      "  0.00685745  0.0068687   0.00687451  0.00688014  0.00690167  0.00690496\n",
      "  0.0069224   0.00693996  0.00695745  0.00698522  0.00699952  0.0070163\n",
      "  0.00712059  0.00717775  0.007178    0.00718926  0.00722787  0.00724537\n",
      "  0.00731006  0.0073113   0.00732548  0.00735564  0.0074803   0.00748773\n",
      "  0.00749641  0.00750239  0.00752556  0.00754378  0.00756912  0.00761083\n",
      "  0.00762066  0.00767862  0.00772434  0.00784454  0.00788608  0.00788907\n",
      "  0.00790406  0.00795209  0.00799694  0.00811426  0.0081267   0.00815956\n",
      "  0.00819712  0.0082706   0.00828881  0.00830159  0.008312    0.00836998\n",
      "  0.00839965  0.0084106   0.00841307  0.00851868  0.00860783  0.00862949\n",
      "  0.00871562  0.00873447  0.00878406  0.00883109  0.008903    0.00895095\n",
      "  0.00906914  0.0091305   0.00913622  0.0092488   0.00927145  0.00965139\n",
      "  0.00974804  0.01001598  0.01002956  0.01022632  0.0105209   0.01056433\n",
      "  0.01076279  0.0111352   0.0111616   0.0111829   0.01118806  0.01129842\n",
      "  0.01194041  0.01197488  0.01227409  0.01265049  0.01287415  0.01287636\n",
      "  0.01329576  0.01343331  0.01356358  0.01366653  0.01377876  0.0143187\n",
      "  0.01443011  0.01471657  0.01524181  0.01534941  0.01579502  0.01641884\n",
      "  0.01650278  0.01664581  0.01698156  0.01704098  0.0170989   0.01728454\n",
      "  0.01864338  0.01919217  0.01970782  0.02002634  0.02132603  0.02260125\n",
      "  0.02261883  0.0228723   0.02399462  0.0240236   0.02528672  0.02673788\n",
      "  0.02748188  0.02912837  0.02930789  0.05892007  0.05893848  0.07570343]\n"
     ]
    }
   ],
   "source": [
    "from sklearn.cluster import KMeans\n",
    "\n",
    "np.random.seed(5)\n",
    "num_clusters = 25\n",
    "\n",
    "# Use scikit-learn's k-means to simplify workflow\n",
    "kmeans_model = KMeans(n_clusters=num_clusters, n_init=5, max_iter=400, random_state=1, n_jobs=-1)\n",
    "kmeans_model.fit(tf_idf)\n",
    "centroids, cluster_assignment = kmeans_model.cluster_centers_, kmeans_model.labels_\n",
    "\n",
    "means = [centroid for centroid in centroids]\n",
    "print len(means[0])\n",
    "print means[0][np.argsort(means[0])][100000:100282]"
   ]
  },
  {
   "cell_type": "markdown",
   "metadata": {},
   "source": [
    "**Initializing cluster weights**\n",
    "\n",
    "We will initialize each cluster weight to be the proportion of documents assigned to that cluster by k-means above."
   ]
  },
  {
   "cell_type": "code",
   "execution_count": 13,
   "metadata": {
    "collapsed": false
   },
   "outputs": [],
   "source": [
    "num_docs = tf_idf.shape[0]\n",
    "weights = []\n",
    "for i in xrange(num_clusters):\n",
    "    # Compute the number of data points assigned to cluster i:\n",
    "    num_assigned = len(cluster_assignment[cluster_assignment == i])\n",
    "    w = float(num_assigned) / num_docs\n",
    "    weights.append(w)"
   ]
  },
  {
   "cell_type": "markdown",
   "metadata": {},
   "source": [
    "**Initializing covariances**\n",
    "\n",
    "To initialize our covariance parameters, we compute $\\hat{\\sigma}_{k, j}^2 = \\sum_{i=1}^{N}(x_{i,j} - \\hat{\\mu}_{k, j})^2$ for each feature $j$.  For features with really tiny variances, we assign 1e-8 instead to prevent numerical instability. We do this computation in a vectorized fashion in the following code block."
   ]
  },
  {
   "cell_type": "code",
   "execution_count": 18,
   "metadata": {
    "collapsed": false
   },
   "outputs": [],
   "source": [
    "covs = []\n",
    "for i in xrange(num_clusters):\n",
    "    member_rows = tf_idf[cluster_assignment==i]\n",
    "    cov = (member_rows.power(2) - 2*member_rows.dot(diag(means[i]))).sum(axis=0).A1 / member_rows.shape[0] \\\n",
    "          + means[i]**2\n",
    "    cov[cov < 1e-8] = 1e-8\n",
    "    covs.append(cov)"
   ]
  },
  {
   "cell_type": "markdown",
   "metadata": {},
   "source": [
    "**Running EM**\n",
    "\n",
    "Now that we have initialized all of our parameters, run EM."
   ]
  },
  {
   "cell_type": "code",
   "execution_count": 19,
   "metadata": {
    "collapsed": false,
    "scrolled": true
   },
   "outputs": [],
   "source": [
    "out = EM_for_high_dimension(tf_idf, means, covs, weights, cov_smoothing=1e-10)"
   ]
  },
  {
   "cell_type": "code",
   "execution_count": 20,
   "metadata": {
    "collapsed": false
   },
   "outputs": [
    {
     "data": {
      "text/plain": [
       "[3855847476.7012835, 4844053202.46348, 4844053202.46348]"
      ]
     },
     "execution_count": 20,
     "metadata": {},
     "output_type": "execute_result"
    }
   ],
   "source": [
    "out['loglik']"
   ]
  },
  {
   "cell_type": "markdown",
   "metadata": {},
   "source": [
    "## Interpret clustering results"
   ]
  },
  {
   "cell_type": "markdown",
   "metadata": {},
   "source": [
    "In contrast to k-means, EM is able to explicitly model clusters of varying sizes and proportions. The relative magnitude of variances in the word dimensions tell us much about the nature of the clusters.\n",
    "\n",
    "Write yourself a cluster visualizer as follows.  Examining each cluster's mean vector, list the 5 words with the largest mean values (5 most common words in the cluster). For each word, also include the associated variance parameter (diagonal element of the covariance matrix). \n",
    "\n",
    "A sample output may be:\n",
    "```\n",
    "==========================================================\n",
    "Cluster 0: Largest mean parameters in cluster \n",
    "\n",
    "Word        Mean        Variance    \n",
    "football    1.08e-01    8.64e-03\n",
    "season      5.80e-02    2.93e-03\n",
    "club        4.48e-02    1.99e-03\n",
    "league      3.94e-02    1.08e-03\n",
    "played      3.83e-02    8.45e-04\n",
    "...\n",
    "```"
   ]
  },
  {
   "cell_type": "code",
   "execution_count": 58,
   "metadata": {
    "collapsed": false
   },
   "outputs": [],
   "source": [
    "# Fill in the blanks\n",
    "def visualize_EM_clusters(tf_idf, means, covs, map_index_to_word):\n",
    "    print('')\n",
    "    print('==========================================================')\n",
    "\n",
    "    num_clusters = len(means)\n",
    "    for c in xrange(num_clusters):\n",
    "        print('Cluster {0:d}: Largest mean parameters in cluster '.format(c))\n",
    "        print('\\n{0: <12}{1: <12}{2: <12}'.format('Word', 'Mean', 'Variance'))\n",
    "        \n",
    "        # The k'th element of sorted_word_ids should be the index of the word \n",
    "        # that has the k'th-largest value in the cluster mean. Hint: Use np.argsort().\n",
    "        sorted_word_ids = np.argsort(means[c]) # YOUR CODE HERE\n",
    "\n",
    "        for i in sorted_word_ids[:5]:\n",
    "            print '{0: <12}{1:<10.2e}{2:10.2e}'.format(map_index_to_word['category'][i], \n",
    "                                                       means[c][i],\n",
    "                                                       covs[c][i])\n",
    "        print '\\n=========================================================='"
   ]
  },
  {
   "cell_type": "code",
   "execution_count": 59,
   "metadata": {
    "collapsed": false
   },
   "outputs": [
    {
     "name": "stdout",
     "output_type": "stream",
     "text": [
      "\n",
      "==========================================================\n",
      "Cluster 0: Largest mean parameters in cluster \n",
      "\n",
      "Word        Mean        Variance    \n",
      "[    0 62037 62036 62035 62034]\n",
      "conflating  0.00e+00    1.00e-10\n",
      "cuestin     0.00e+00    1.00e-10\n",
      "proteccin   0.00e+00    1.00e-10\n",
      "crayonswarren0.00e+00    1.00e-10\n",
      "strothers   0.00e+00    1.00e-10\n",
      "\n",
      "==========================================================\n",
      "Cluster 1: Largest mean parameters in cluster \n",
      "\n",
      "Word        Mean        Variance    \n",
      "[    0 62704 62703 62702 62701]\n",
      "conflating  0.00e+00    1.00e-10\n",
      "clrnan      0.00e+00    1.00e-10\n",
      "societymustafa0.00e+00    1.00e-10\n",
      "heartpounding0.00e+00    1.00e-10\n",
      "preethi     0.00e+00    1.00e-10\n",
      "\n",
      "==========================================================\n",
      "Cluster 2: Largest mean parameters in cluster \n",
      "\n",
      "Word        Mean        Variance    \n",
      "[    0 61824 61823 61822 61821]\n",
      "conflating  0.00e+00    1.00e-10\n",
      "farnhams    0.00e+00    1.00e-10\n",
      "gyxa        0.00e+00    1.00e-10\n",
      "villainswhen0.00e+00    1.00e-10\n",
      "awax        0.00e+00    1.00e-10\n",
      "\n",
      "==========================================================\n",
      "Cluster 3: Largest mean parameters in cluster \n",
      "\n",
      "Word        Mean        Variance    \n",
      "[    0 64832 64831 64830 64829]\n",
      "conflating  0.00e+00    1.00e-10\n",
      "cantoniparrish0.00e+00    1.00e-10\n",
      "vinderhoute 0.00e+00    1.00e-10\n",
      "bumpn       0.00e+00    1.00e-10\n",
      "ferenczy    0.00e+00    1.00e-10\n",
      "\n",
      "==========================================================\n",
      "Cluster 4: Largest mean parameters in cluster \n",
      "\n",
      "Word        Mean        Variance    \n",
      "[    0 65328 65327 65326 65325]\n",
      "conflating  0.00e+00    1.00e-10\n",
      "gruffuddfollowing0.00e+00    1.00e-10\n",
      "seigel      0.00e+00    1.00e-10\n",
      "mobsters    0.00e+00    1.00e-10\n",
      "singlet     0.00e+00    1.00e-10\n",
      "\n",
      "==========================================================\n",
      "Cluster 5: Largest mean parameters in cluster \n",
      "\n",
      "Word        Mean        Variance    \n",
      "[    0 63745 63743 63742 63741]\n",
      "conflating  0.00e+00    1.00e-10\n",
      "1976upon    0.00e+00    1.00e-10\n",
      "2007one     0.00e+00    1.00e-10\n",
      "earthview   0.00e+00    1.00e-10\n",
      "5529        0.00e+00    1.00e-10\n",
      "\n",
      "==========================================================\n",
      "Cluster 6: Largest mean parameters in cluster \n",
      "\n",
      "Word        Mean        Variance    \n",
      "[    0 58426 58424 58423 58422]\n",
      "conflating  0.00e+00    1.00e-10\n",
      "starhis     0.00e+00    1.00e-10\n",
      "jef         0.00e+00    1.00e-10\n",
      "coachhobie  0.00e+00    1.00e-10\n",
      "curnew      0.00e+00    1.00e-10\n",
      "\n",
      "==========================================================\n",
      "Cluster 7: Largest mean parameters in cluster \n",
      "\n",
      "Word        Mean        Variance    \n",
      "[    0 64028 64027 64026 64025]\n",
      "conflating  0.00e+00    1.00e-10\n",
      "glickmans   0.00e+00    1.00e-10\n",
      "tombini     0.00e+00    1.00e-10\n",
      "pankina     0.00e+00    1.00e-10\n",
      "hellbilly   0.00e+00    1.00e-10\n",
      "\n",
      "==========================================================\n",
      "Cluster 8: Largest mean parameters in cluster \n",
      "\n",
      "Word        Mean        Variance    \n",
      "[50140 47500 47501 47502 78774]\n",
      "hodder      0.00e+00    1.00e-10\n",
      "hardcoredrum0.00e+00    1.00e-10\n",
      "attendancein0.00e+00    1.00e-10\n",
      "gabler      0.00e+00    1.00e-10\n",
      "pds         0.00e+00    1.00e-10\n",
      "\n",
      "==========================================================\n",
      "Cluster 9: Largest mean parameters in cluster \n",
      "\n",
      "Word        Mean        Variance    \n",
      "[    0 63939 63938 63937 63936]\n",
      "conflating  0.00e+00    1.00e-10\n",
      "phenomenain 0.00e+00    1.00e-10\n",
      "affirmation 0.00e+00    1.00e-10\n",
      "rozhok      0.00e+00    1.00e-10\n",
      "federationperhaps0.00e+00    1.00e-10\n",
      "\n",
      "==========================================================\n",
      "Cluster 10: Largest mean parameters in cluster \n",
      "\n",
      "Word        Mean        Variance    \n",
      "[    0 64246 64245 64244 64243]\n",
      "conflating  0.00e+00    1.00e-10\n",
      "418000      0.00e+00    1.00e-10\n",
      "neemuat     0.00e+00    1.00e-10\n",
      "clubnights  0.00e+00    1.00e-10\n",
      "qadir       0.00e+00    1.00e-10\n",
      "\n",
      "==========================================================\n",
      "Cluster 11: Largest mean parameters in cluster \n",
      "\n",
      "Word        Mean        Variance    \n",
      "[    0 61343 61342 61341 61340]\n",
      "conflating  0.00e+00    1.00e-10\n",
      "timpsons    0.00e+00    1.00e-10\n",
      "overheating 0.00e+00    1.00e-10\n",
      "jennyfer    0.00e+00    1.00e-10\n",
      "russogeorgian0.00e+00    1.00e-10\n",
      "\n",
      "==========================================================\n",
      "Cluster 12: Largest mean parameters in cluster \n",
      "\n",
      "Word        Mean        Variance    \n",
      "[    0 62330 62329 62328 62325]\n",
      "conflating  0.00e+00    1.00e-10\n",
      "tiempos     0.00e+00    1.00e-10\n",
      "lagerfeld   0.00e+00    1.00e-10\n",
      "fungicide   0.00e+00    1.00e-10\n",
      "gamesstarting0.00e+00    1.00e-10\n",
      "\n",
      "==========================================================\n",
      "Cluster 13: Largest mean parameters in cluster \n",
      "\n",
      "Word        Mean        Variance    \n",
      "[    0 59382 59381 59380 59379]\n",
      "conflating  0.00e+00    1.00e-10\n",
      "samplers    0.00e+00    1.00e-10\n",
      "marrakesh   0.00e+00    1.00e-10\n",
      "rac         0.00e+00    1.00e-10\n",
      "lowprofile  0.00e+00    1.00e-10\n",
      "\n",
      "==========================================================\n",
      "Cluster 14: Largest mean parameters in cluster \n",
      "\n",
      "Word        Mean        Variance    \n",
      "[    0 60694 60693 60692 60691]\n",
      "conflating  0.00e+00    1.00e-10\n",
      "stacys      0.00e+00    1.00e-10\n",
      "montbliard  0.00e+00    1.00e-10\n",
      "mintzer     0.00e+00    1.00e-10\n",
      "16851750    0.00e+00    1.00e-10\n",
      "\n",
      "==========================================================\n",
      "Cluster 15: Largest mean parameters in cluster \n",
      "\n",
      "Word        Mean        Variance    \n",
      "[    0 58869 58868 58867 58866]\n",
      "conflating  0.00e+00    1.00e-10\n",
      "franciscan  0.00e+00    1.00e-10\n",
      "h1674       0.00e+00    1.00e-10\n",
      "creatives   0.00e+00    1.00e-10\n",
      "19951996bennett0.00e+00    1.00e-10\n",
      "\n",
      "==========================================================\n",
      "Cluster 16: Largest mean parameters in cluster \n",
      "\n",
      "Word        Mean        Variance    \n",
      "[    0 64627 64626 64625 64624]\n",
      "conflating  0.00e+00    1.00e-10\n",
      "jointhead   0.00e+00    1.00e-10\n",
      "communitymilam0.00e+00    1.00e-10\n",
      "aino        0.00e+00    1.00e-10\n",
      "preziosi    0.00e+00    1.00e-10\n",
      "\n",
      "==========================================================\n",
      "Cluster 17: Largest mean parameters in cluster \n",
      "\n",
      "Word        Mean        Variance    \n",
      "[    0 62929 62928 62927 62926]\n",
      "conflating  0.00e+00    1.00e-10\n",
      "whanganui   0.00e+00    1.00e-10\n",
      "accessibleamazingenjoyable0.00e+00    1.00e-10\n",
      "electrophoresis0.00e+00    1.00e-10\n",
      "votefellow  0.00e+00    1.00e-10\n",
      "\n",
      "==========================================================\n",
      "Cluster 18: Largest mean parameters in cluster \n",
      "\n",
      "Word        Mean        Variance    \n",
      "[    0 64571 64570 64569 64568]\n",
      "conflating  0.00e+00    1.00e-10\n",
      "pulau       0.00e+00    1.00e-10\n",
      "longing     0.00e+00    1.00e-10\n",
      "travelogues 0.00e+00    1.00e-10\n",
      "humorless   0.00e+00    1.00e-10\n",
      "\n",
      "==========================================================\n",
      "Cluster 19: Largest mean parameters in cluster \n",
      "\n",
      "Word        Mean        Variance    \n",
      "[    0 62963 62962 62961 62960]\n",
      "conflating  0.00e+00    1.00e-10\n",
      "mindful     0.00e+00    1.00e-10\n",
      "zionaires   0.00e+00    1.00e-10\n",
      "2815        0.00e+00    1.00e-10\n",
      "discostubbs 0.00e+00    1.00e-10\n",
      "\n",
      "==========================================================\n",
      "Cluster 20: Largest mean parameters in cluster \n",
      "\n",
      "Word        Mean        Variance    \n",
      "[    0 63737 63736 63735 63734]\n",
      "conflating  0.00e+00    1.00e-10\n",
      "leftconservative0.00e+00    1.00e-10\n",
      "steganography0.00e+00    1.00e-10\n",
      "nib         0.00e+00    1.00e-10\n",
      "youthpinkwater0.00e+00    1.00e-10\n",
      "\n",
      "==========================================================\n",
      "Cluster 21: Largest mean parameters in cluster \n",
      "\n",
      "Word        Mean        Variance    \n",
      "[    0 62532 62531 62530 62529]\n",
      "conflating  0.00e+00    1.00e-10\n",
      "niemann     0.00e+00    1.00e-10\n",
      "cmoleads    0.00e+00    1.00e-10\n",
      "himwalker   0.00e+00    1.00e-10\n",
      "leitte      0.00e+00    1.00e-10\n",
      "\n",
      "==========================================================\n",
      "Cluster 22: Largest mean parameters in cluster \n",
      "\n",
      "Word        Mean        Variance    \n",
      "[    0 65152 65151 65150 65149]\n",
      "conflating  0.00e+00    1.00e-10\n",
      "roughen     0.00e+00    1.00e-10\n",
      "malzberg    0.00e+00    1.00e-10\n",
      "serviceinternational0.00e+00    1.00e-10\n",
      "ishii       0.00e+00    1.00e-10\n",
      "\n",
      "==========================================================\n",
      "Cluster 23: Largest mean parameters in cluster \n",
      "\n",
      "Word        Mean        Variance    \n",
      "[    0 60610 60609 60608 60607]\n",
      "conflating  0.00e+00    1.00e-10\n",
      "schulzeequally0.00e+00    1.00e-10\n",
      "enmascarado 0.00e+00    1.00e-10\n",
      "worldbloch  0.00e+00    1.00e-10\n",
      "eventziegelmeyer0.00e+00    1.00e-10\n",
      "\n",
      "==========================================================\n",
      "Cluster 24: Largest mean parameters in cluster \n",
      "\n",
      "Word        Mean        Variance    \n",
      "[    0 63560 63559 63558 63557]\n",
      "conflating  0.00e+00    1.00e-10\n",
      "topfree     0.00e+00    1.00e-10\n",
      "rachleff    0.00e+00    1.00e-10\n",
      "orrock      0.00e+00    1.00e-10\n",
      "toplevel    0.00e+00    1.00e-10\n",
      "\n",
      "==========================================================\n"
     ]
    }
   ],
   "source": [
    "'''By EM'''\n",
    "visualize_EM_clusters(tf_idf, out['means'], out['covs'], map_index_to_word)"
   ]
  },
  {
   "cell_type": "markdown",
   "metadata": {},
   "source": [
    "**Quiz Question**. Select all the topics that have a cluster in the model created above. [multiple choice]"
   ]
  },
  {
   "cell_type": "markdown",
   "metadata": {},
   "source": [
    "## Comparing to random initialization"
   ]
  },
  {
   "cell_type": "markdown",
   "metadata": {
    "collapsed": false
   },
   "source": [
    "Create variables for randomly initializing the EM algorithm. Complete the following code block."
   ]
  },
  {
   "cell_type": "code",
   "execution_count": null,
   "metadata": {
    "collapsed": true
   },
   "outputs": [],
   "source": [
    "np.random.seed(5)\n",
    "num_clusters = len(means)\n",
    "num_docs, num_words = tf_idf.shape\n",
    "\n",
    "random_means = []\n",
    "random_covs = []\n",
    "random_weights = []\n",
    "\n",
    "for k in range(num_clusters):\n",
    "    \n",
    "    # Create a numpy array of length num_words with random normally distributed values.\n",
    "    # Use the standard univariate normal distribution (mean 0, variance 1).\n",
    "    # YOUR CODE HERE\n",
    "    mean = ...\n",
    "    \n",
    "    # Create a numpy array of length num_words with random values uniformly distributed between 1 and 5.\n",
    "    # YOUR CODE HERE\n",
    "    cov = ...\n",
    "\n",
    "    # Initially give each cluster equal weight.\n",
    "    # YOUR CODE HERE\n",
    "    weight = ...\n",
    "    \n",
    "    random_means.append(mean)\n",
    "    random_covs.append(cov)\n",
    "    random_weights.append(weight)"
   ]
  },
  {
   "cell_type": "markdown",
   "metadata": {},
   "source": [
    "**Quiz Question**: Try fitting EM with the random initial parameters you created above. (Use `cov_smoothing=1e-5`.) Store the result to `out_random_init`. What is the final loglikelihood that the algorithm converges to? "
   ]
  },
  {
   "cell_type": "code",
   "execution_count": null,
   "metadata": {
    "collapsed": true
   },
   "outputs": [],
   "source": []
  },
  {
   "cell_type": "markdown",
   "metadata": {},
   "source": [
    "**Quiz Question:** Is the final loglikelihood larger or smaller than the final loglikelihood we obtained above when initializing EM with the results from running k-means?"
   ]
  },
  {
   "cell_type": "code",
   "execution_count": null,
   "metadata": {
    "collapsed": true
   },
   "outputs": [],
   "source": []
  },
  {
   "cell_type": "markdown",
   "metadata": {},
   "source": [
    "**Quiz Question**: For the above model, `out_random_init`, use the `visualize_EM_clusters` method you created above. Are the clusters more or less interpretable than the ones found after initializing using k-means?"
   ]
  },
  {
   "cell_type": "code",
   "execution_count": null,
   "metadata": {
    "collapsed": true
   },
   "outputs": [],
   "source": [
    "# YOUR CODE HERE. Use visualize_EM_clusters, which will require you to pass in tf_idf and map_index_to_word.\n",
    "..."
   ]
  },
  {
   "cell_type": "markdown",
   "metadata": {
    "collapsed": true
   },
   "source": [
    "## Takeaway\n",
    "\n",
    "In this assignment we were able to apply the EM algorithm to a mixture of Gaussians model of text data. This was made possible by modifying the model to assume a diagonal covariance for each cluster, and by modifying the implementation to use a sparse matrix representation. In the second part you explored the role of k-means initialization on the convergence of the model as well as the interpretability of the clusters."
   ]
  },
  {
   "cell_type": "code",
   "execution_count": null,
   "metadata": {
    "collapsed": true
   },
   "outputs": [],
   "source": []
  }
 ],
 "metadata": {
  "kernelspec": {
   "display_name": "Python 2",
   "language": "python",
   "name": "python2"
  },
  "language_info": {
   "codemirror_mode": {
    "name": "ipython",
    "version": 2
   },
   "file_extension": ".py",
   "mimetype": "text/x-python",
   "name": "python",
   "nbconvert_exporter": "python",
   "pygments_lexer": "ipython2",
   "version": "2.7.10"
  }
 },
 "nbformat": 4,
 "nbformat_minor": 0
}
